{
  "nbformat": 4,
  "nbformat_minor": 0,
  "metadata": {
    "colab": {
      "provenance": [],
      "toc_visible": true
    },
    "kernelspec": {
      "name": "python3",
      "display_name": "Python 3"
    },
    "language_info": {
      "name": "python"
    }
  },
  "cells": [
    {
      "cell_type": "code",
      "source": [
        "import pandas as pd\n",
        "import numpy as np\n",
        "import scipy.stats as stats\n",
        "from scipy.stats import expon, weibull_min, norm, lognorm, kstest, ks_1samp, normaltest, skew, kurtosis\n",
        "import seaborn as sns\n",
        "import matplotlib.pyplot as plt\n",
        "from scipy.optimize import minimize\n",
        "import matplotlib.pyplot as plt"
      ],
      "metadata": {
        "id": "xYTxqhWaT4A5"
      },
      "execution_count": null,
      "outputs": []
    },
    {
      "cell_type": "markdown",
      "source": [
        "# INPUT DATA"
      ],
      "metadata": {
        "id": "fJZ49gXWPzTG"
      }
    },
    {
      "cell_type": "code",
      "source": [
        "#Input data Time To Failure\n",
        "\n",
        "ttf_data = np.array([\n",
        "    3107.5,\n",
        "    7677.25,\n",
        "    925,\n",
        "    2751,\n",
        "    8567.67,\n",
        "    7156,\n",
        "    4390.5,\n",
        "    5422.5,\n",
        "    4335.5,\n",
        "    4307.5,\n",
        "    11901.13,\n",
        "    6985.5,\n",
        "    5373.5\n",
        "])"
      ],
      "metadata": {
        "id": "Vv-WOPz9T9kS"
      },
      "execution_count": null,
      "outputs": []
    },
    {
      "cell_type": "markdown",
      "source": [
        "# MTTF/MTTR"
      ],
      "metadata": {
        "id": "9H0T3s3YLaoQ"
      }
    },
    {
      "cell_type": "markdown",
      "source": [
        "## ANALISIS DISTRIBUSI"
      ],
      "metadata": {
        "id": "vgMsPiqhQAu1"
      }
    },
    {
      "cell_type": "code",
      "source": [
        "#Statistik Data\n",
        "\n",
        "ttf_df = pd.DataFrame(ttf_data)\n",
        "ttf_df.describe()"
      ],
      "metadata": {
        "colab": {
          "base_uri": "https://localhost:8080/",
          "height": 301
        },
        "id": "AfTkVjKMh08s",
        "outputId": "e57b103f-9461-4e0d-f2e5-94448e1727b0"
      },
      "execution_count": null,
      "outputs": [
        {
          "output_type": "execute_result",
          "data": {
            "text/plain": [
              "                  0\n",
              "count     13.000000\n",
              "mean    5607.734615\n",
              "std     2860.163721\n",
              "min      925.000000\n",
              "25%     4307.500000\n",
              "50%     5373.500000\n",
              "75%     7156.000000\n",
              "max    11901.130000"
            ],
            "text/html": [
              "\n",
              "  <div id=\"df-fe1fd39d-a483-4c7d-a778-e265d5eccc1a\" class=\"colab-df-container\">\n",
              "    <div>\n",
              "<style scoped>\n",
              "    .dataframe tbody tr th:only-of-type {\n",
              "        vertical-align: middle;\n",
              "    }\n",
              "\n",
              "    .dataframe tbody tr th {\n",
              "        vertical-align: top;\n",
              "    }\n",
              "\n",
              "    .dataframe thead th {\n",
              "        text-align: right;\n",
              "    }\n",
              "</style>\n",
              "<table border=\"1\" class=\"dataframe\">\n",
              "  <thead>\n",
              "    <tr style=\"text-align: right;\">\n",
              "      <th></th>\n",
              "      <th>0</th>\n",
              "    </tr>\n",
              "  </thead>\n",
              "  <tbody>\n",
              "    <tr>\n",
              "      <th>count</th>\n",
              "      <td>13.000000</td>\n",
              "    </tr>\n",
              "    <tr>\n",
              "      <th>mean</th>\n",
              "      <td>5607.734615</td>\n",
              "    </tr>\n",
              "    <tr>\n",
              "      <th>std</th>\n",
              "      <td>2860.163721</td>\n",
              "    </tr>\n",
              "    <tr>\n",
              "      <th>min</th>\n",
              "      <td>925.000000</td>\n",
              "    </tr>\n",
              "    <tr>\n",
              "      <th>25%</th>\n",
              "      <td>4307.500000</td>\n",
              "    </tr>\n",
              "    <tr>\n",
              "      <th>50%</th>\n",
              "      <td>5373.500000</td>\n",
              "    </tr>\n",
              "    <tr>\n",
              "      <th>75%</th>\n",
              "      <td>7156.000000</td>\n",
              "    </tr>\n",
              "    <tr>\n",
              "      <th>max</th>\n",
              "      <td>11901.130000</td>\n",
              "    </tr>\n",
              "  </tbody>\n",
              "</table>\n",
              "</div>\n",
              "    <div class=\"colab-df-buttons\">\n",
              "\n",
              "  <div class=\"colab-df-container\">\n",
              "    <button class=\"colab-df-convert\" onclick=\"convertToInteractive('df-fe1fd39d-a483-4c7d-a778-e265d5eccc1a')\"\n",
              "            title=\"Convert this dataframe to an interactive table.\"\n",
              "            style=\"display:none;\">\n",
              "\n",
              "  <svg xmlns=\"http://www.w3.org/2000/svg\" height=\"24px\" viewBox=\"0 -960 960 960\">\n",
              "    <path d=\"M120-120v-720h720v720H120Zm60-500h600v-160H180v160Zm220 220h160v-160H400v160Zm0 220h160v-160H400v160ZM180-400h160v-160H180v160Zm440 0h160v-160H620v160ZM180-180h160v-160H180v160Zm440 0h160v-160H620v160Z\"/>\n",
              "  </svg>\n",
              "    </button>\n",
              "\n",
              "  <style>\n",
              "    .colab-df-container {\n",
              "      display:flex;\n",
              "      gap: 12px;\n",
              "    }\n",
              "\n",
              "    .colab-df-convert {\n",
              "      background-color: #E8F0FE;\n",
              "      border: none;\n",
              "      border-radius: 50%;\n",
              "      cursor: pointer;\n",
              "      display: none;\n",
              "      fill: #1967D2;\n",
              "      height: 32px;\n",
              "      padding: 0 0 0 0;\n",
              "      width: 32px;\n",
              "    }\n",
              "\n",
              "    .colab-df-convert:hover {\n",
              "      background-color: #E2EBFA;\n",
              "      box-shadow: 0px 1px 2px rgba(60, 64, 67, 0.3), 0px 1px 3px 1px rgba(60, 64, 67, 0.15);\n",
              "      fill: #174EA6;\n",
              "    }\n",
              "\n",
              "    .colab-df-buttons div {\n",
              "      margin-bottom: 4px;\n",
              "    }\n",
              "\n",
              "    [theme=dark] .colab-df-convert {\n",
              "      background-color: #3B4455;\n",
              "      fill: #D2E3FC;\n",
              "    }\n",
              "\n",
              "    [theme=dark] .colab-df-convert:hover {\n",
              "      background-color: #434B5C;\n",
              "      box-shadow: 0px 1px 3px 1px rgba(0, 0, 0, 0.15);\n",
              "      filter: drop-shadow(0px 1px 2px rgba(0, 0, 0, 0.3));\n",
              "      fill: #FFFFFF;\n",
              "    }\n",
              "  </style>\n",
              "\n",
              "    <script>\n",
              "      const buttonEl =\n",
              "        document.querySelector('#df-fe1fd39d-a483-4c7d-a778-e265d5eccc1a button.colab-df-convert');\n",
              "      buttonEl.style.display =\n",
              "        google.colab.kernel.accessAllowed ? 'block' : 'none';\n",
              "\n",
              "      async function convertToInteractive(key) {\n",
              "        const element = document.querySelector('#df-fe1fd39d-a483-4c7d-a778-e265d5eccc1a');\n",
              "        const dataTable =\n",
              "          await google.colab.kernel.invokeFunction('convertToInteractive',\n",
              "                                                    [key], {});\n",
              "        if (!dataTable) return;\n",
              "\n",
              "        const docLinkHtml = 'Like what you see? Visit the ' +\n",
              "          '<a target=\"_blank\" href=https://colab.research.google.com/notebooks/data_table.ipynb>data table notebook</a>'\n",
              "          + ' to learn more about interactive tables.';\n",
              "        element.innerHTML = '';\n",
              "        dataTable['output_type'] = 'display_data';\n",
              "        await google.colab.output.renderOutput(dataTable, element);\n",
              "        const docLink = document.createElement('div');\n",
              "        docLink.innerHTML = docLinkHtml;\n",
              "        element.appendChild(docLink);\n",
              "      }\n",
              "    </script>\n",
              "  </div>\n",
              "\n",
              "\n",
              "    <div id=\"df-1310b831-d37c-48b1-91ad-22db795d6a83\">\n",
              "      <button class=\"colab-df-quickchart\" onclick=\"quickchart('df-1310b831-d37c-48b1-91ad-22db795d6a83')\"\n",
              "                title=\"Suggest charts\"\n",
              "                style=\"display:none;\">\n",
              "\n",
              "<svg xmlns=\"http://www.w3.org/2000/svg\" height=\"24px\"viewBox=\"0 0 24 24\"\n",
              "     width=\"24px\">\n",
              "    <g>\n",
              "        <path d=\"M19 3H5c-1.1 0-2 .9-2 2v14c0 1.1.9 2 2 2h14c1.1 0 2-.9 2-2V5c0-1.1-.9-2-2-2zM9 17H7v-7h2v7zm4 0h-2V7h2v10zm4 0h-2v-4h2v4z\"/>\n",
              "    </g>\n",
              "</svg>\n",
              "      </button>\n",
              "\n",
              "<style>\n",
              "  .colab-df-quickchart {\n",
              "      --bg-color: #E8F0FE;\n",
              "      --fill-color: #1967D2;\n",
              "      --hover-bg-color: #E2EBFA;\n",
              "      --hover-fill-color: #174EA6;\n",
              "      --disabled-fill-color: #AAA;\n",
              "      --disabled-bg-color: #DDD;\n",
              "  }\n",
              "\n",
              "  [theme=dark] .colab-df-quickchart {\n",
              "      --bg-color: #3B4455;\n",
              "      --fill-color: #D2E3FC;\n",
              "      --hover-bg-color: #434B5C;\n",
              "      --hover-fill-color: #FFFFFF;\n",
              "      --disabled-bg-color: #3B4455;\n",
              "      --disabled-fill-color: #666;\n",
              "  }\n",
              "\n",
              "  .colab-df-quickchart {\n",
              "    background-color: var(--bg-color);\n",
              "    border: none;\n",
              "    border-radius: 50%;\n",
              "    cursor: pointer;\n",
              "    display: none;\n",
              "    fill: var(--fill-color);\n",
              "    height: 32px;\n",
              "    padding: 0;\n",
              "    width: 32px;\n",
              "  }\n",
              "\n",
              "  .colab-df-quickchart:hover {\n",
              "    background-color: var(--hover-bg-color);\n",
              "    box-shadow: 0 1px 2px rgba(60, 64, 67, 0.3), 0 1px 3px 1px rgba(60, 64, 67, 0.15);\n",
              "    fill: var(--button-hover-fill-color);\n",
              "  }\n",
              "\n",
              "  .colab-df-quickchart-complete:disabled,\n",
              "  .colab-df-quickchart-complete:disabled:hover {\n",
              "    background-color: var(--disabled-bg-color);\n",
              "    fill: var(--disabled-fill-color);\n",
              "    box-shadow: none;\n",
              "  }\n",
              "\n",
              "  .colab-df-spinner {\n",
              "    border: 2px solid var(--fill-color);\n",
              "    border-color: transparent;\n",
              "    border-bottom-color: var(--fill-color);\n",
              "    animation:\n",
              "      spin 1s steps(1) infinite;\n",
              "  }\n",
              "\n",
              "  @keyframes spin {\n",
              "    0% {\n",
              "      border-color: transparent;\n",
              "      border-bottom-color: var(--fill-color);\n",
              "      border-left-color: var(--fill-color);\n",
              "    }\n",
              "    20% {\n",
              "      border-color: transparent;\n",
              "      border-left-color: var(--fill-color);\n",
              "      border-top-color: var(--fill-color);\n",
              "    }\n",
              "    30% {\n",
              "      border-color: transparent;\n",
              "      border-left-color: var(--fill-color);\n",
              "      border-top-color: var(--fill-color);\n",
              "      border-right-color: var(--fill-color);\n",
              "    }\n",
              "    40% {\n",
              "      border-color: transparent;\n",
              "      border-right-color: var(--fill-color);\n",
              "      border-top-color: var(--fill-color);\n",
              "    }\n",
              "    60% {\n",
              "      border-color: transparent;\n",
              "      border-right-color: var(--fill-color);\n",
              "    }\n",
              "    80% {\n",
              "      border-color: transparent;\n",
              "      border-right-color: var(--fill-color);\n",
              "      border-bottom-color: var(--fill-color);\n",
              "    }\n",
              "    90% {\n",
              "      border-color: transparent;\n",
              "      border-bottom-color: var(--fill-color);\n",
              "    }\n",
              "  }\n",
              "</style>\n",
              "\n",
              "      <script>\n",
              "        async function quickchart(key) {\n",
              "          const quickchartButtonEl =\n",
              "            document.querySelector('#' + key + ' button');\n",
              "          quickchartButtonEl.disabled = true;  // To prevent multiple clicks.\n",
              "          quickchartButtonEl.classList.add('colab-df-spinner');\n",
              "          try {\n",
              "            const charts = await google.colab.kernel.invokeFunction(\n",
              "                'suggestCharts', [key], {});\n",
              "          } catch (error) {\n",
              "            console.error('Error during call to suggestCharts:', error);\n",
              "          }\n",
              "          quickchartButtonEl.classList.remove('colab-df-spinner');\n",
              "          quickchartButtonEl.classList.add('colab-df-quickchart-complete');\n",
              "        }\n",
              "        (() => {\n",
              "          let quickchartButtonEl =\n",
              "            document.querySelector('#df-1310b831-d37c-48b1-91ad-22db795d6a83 button');\n",
              "          quickchartButtonEl.style.display =\n",
              "            google.colab.kernel.accessAllowed ? 'block' : 'none';\n",
              "        })();\n",
              "      </script>\n",
              "    </div>\n",
              "\n",
              "    </div>\n",
              "  </div>\n"
            ],
            "application/vnd.google.colaboratory.intrinsic+json": {
              "type": "dataframe",
              "summary": "{\n  \"name\": \"ttf_df\",\n  \"rows\": 8,\n  \"fields\": [\n    {\n      \"column\": 0,\n      \"properties\": {\n        \"dtype\": \"number\",\n        \"std\": 3758.541616678325,\n        \"min\": 13.0,\n        \"max\": 11901.13,\n        \"num_unique_values\": 8,\n        \"samples\": [\n          5607.734615384615,\n          5373.5,\n          13.0\n        ],\n        \"semantic_type\": \"\",\n        \"description\": \"\"\n      }\n    }\n  ]\n}"
            }
          },
          "metadata": {},
          "execution_count": 49
        }
      ]
    },
    {
      "cell_type": "code",
      "source": [
        "# Fungsi untuk menguji kecocokan distribusi\n",
        "def goodness_of_fit(ttf_data, dist, dist_name):\n",
        "    params = dist.fit(ttf_data)\n",
        "    log_likelihood = np.sum(dist.logpdf(ttf_data, *params))\n",
        "    aic = 2 * len(params) - 2 * log_likelihood\n",
        "    bic = len(params) * np.log(len(ttf_data)) - 2 * log_likelihood\n",
        "    ks_stat, p_value = ks_1samp(ttf_data, lambda x: dist.cdf(x, *params))\n",
        "    return dist_name, log_likelihood, aic, bic, ks_stat, p_value, params\n",
        "\n",
        "# Hitung skewness dan kurtosis\n",
        "skewness = skew(ttf_data)\n",
        "kurt = kurtosis(ttf_data)\n",
        "\n",
        "# Uji distribusi\n",
        "normal_p = normaltest(ttf_data).pvalue\n",
        "dist_results = {}\n",
        "params_dict = {}\n",
        "\n",
        "# Cek distribusi terbaik\n",
        "for dist, name in [(expon, \"Exponential\"), (weibull_min, \"Weibull\"), (lognorm, \"Log-Normal\"), (norm, \"Normal\")]:\n",
        "    dist_name, log_likelihood, aic, bic, ks_stat, p_value, params = goodness_of_fit(ttf_data, dist, name)\n",
        "    dist_results[dist_name] = (log_likelihood, aic, bic, ks_stat, p_value)\n",
        "    params_dict[dist_name] = params\n",
        "\n",
        "# Menentukan distribusi terbaik berdasarkan AIC dan KS Test\n",
        "best_fit_aic = min(dist_results, key=lambda x: dist_results[x][1])  # AIC lebih rendah lebih baik\n",
        "best_fit_ks = min(dist_results, key=lambda x: dist_results[x][3])  # KS Statistic lebih rendah lebih baik\n",
        "\n",
        "# Cetak hasil uji distribusi\n",
        "print(\"\\n=== Analisis Distribusi ===\")\n",
        "print(f\"Skewness: {skewness:.2f}, Kurtosis: {kurt:.2f}\")\n",
        "\n",
        "for dist_name, (log_likelihood, aic, bic, ks_stat, p_value) in dist_results.items():\n",
        "    print(f\"\\n=== {dist_name} ===\")\n",
        "    print(f\"Log-Likelihood: {log_likelihood:.2f}\")\n",
        "    print(f\"AIC: {aic:.2f}, BIC: {bic:.2f}\")\n",
        "    print(f\"KS Stat: {ks_stat:.2f}, p-value: {p_value:.3f}\")\n",
        "\n",
        "print(\"\\n=== Distribusi Terbaik ===\")\n",
        "#print(f\"\\nBest Fit (AIC): {best_fit_aic}\")\n",
        "print(f\"Best Fit (KS Stat): {best_fit_ks}\")"
      ],
      "metadata": {
        "colab": {
          "base_uri": "https://localhost:8080/"
        },
        "id": "Sfdm7TmBj2t2",
        "outputId": "63fe4855-3907-463c-a0ae-ed4ca4ebbe76"
      },
      "execution_count": null,
      "outputs": [
        {
          "output_type": "stream",
          "name": "stdout",
          "text": [
            "\n",
            "=== Analisis Distribusi ===\n",
            "Skewness: 0.53, Kurtosis: 0.06\n",
            "\n",
            "=== Exponential ===\n",
            "Log-Likelihood: -122.87\n",
            "AIC: 249.74, BIC: 250.87\n",
            "KS Stat: 0.28, p-value: 0.203\n",
            "\n",
            "=== Weibull ===\n",
            "Log-Likelihood: -120.95\n",
            "AIC: 247.90, BIC: 249.60\n",
            "KS Stat: 0.13, p-value: 0.971\n",
            "\n",
            "=== Log-Normal ===\n",
            "Log-Likelihood: -119.76\n",
            "AIC: 245.51, BIC: 247.21\n",
            "KS Stat: 0.50, p-value: 0.001\n",
            "\n",
            "=== Normal ===\n",
            "Log-Likelihood: -121.39\n",
            "AIC: 246.78, BIC: 247.91\n",
            "KS Stat: 0.14, p-value: 0.922\n",
            "\n",
            "=== Distribusi Terbaik ===\n",
            "Best Fit (KS Stat): Weibull\n"
          ]
        }
      ]
    },
    {
      "cell_type": "code",
      "source": [
        "# === Estimasi Parameter ===\n",
        "# Eksponensial\n",
        "expon_loc_ttf, expon_scale_ttf = expon.fit(ttf_data, floc=0)\n",
        "\n",
        "# Weibull\n",
        "weibull_shape_ttf, weibull_loc_ttf, weibull_scale_ttf = weibull_min.fit(ttf_data, floc=0)\n",
        "\n",
        "# Normal\n",
        "normal_mean_ttf, normal_std_ttf = norm.fit(ttf_data)\n",
        "\n",
        "# Lognormal\n",
        "lognormal_shape_ttf, lognormal_loc_ttf, lognormal_scale_ttf = lognorm.fit(ttf_data, floc=0)\n",
        "\n",
        "print(\"=== Parameter Estimasi ===\")\n",
        "print(f\"Exponential: loc={expon_loc_ttf}, scale={expon_scale_ttf}\")\n",
        "print(f\"Weibull: shape={weibull_shape_ttf}, loc={weibull_loc_ttf}, scale={weibull_scale_ttf}\")\n",
        "print(f\"Normal: mean={normal_mean_ttf}, std={normal_std_ttf}\")\n",
        "print(f\"Lognormal: shape={lognormal_shape_ttf}, loc={lognormal_loc_ttf}, scale={lognormal_scale_ttf}\")"
      ],
      "metadata": {
        "colab": {
          "base_uri": "https://localhost:8080/"
        },
        "id": "Zyf5sOxGBjM7",
        "outputId": "4e4acb1c-44b3-465c-88ca-0bd896b8bf10"
      },
      "execution_count": null,
      "outputs": [
        {
          "output_type": "stream",
          "name": "stdout",
          "text": [
            "=== Parameter Estimasi ===\n",
            "Exponential: loc=0.0, scale=5607.734615384615\n",
            "Weibull: shape=2.134115359328148, loc=0, scale=6323.080968149512\n",
            "Normal: mean=5607.734615384615, std=2747.9564169470077\n",
            "Lognormal: shape=0.6169841449853031, loc=0, scale=4810.781461997049\n"
          ]
        }
      ]
    },
    {
      "cell_type": "markdown",
      "source": [
        "# SELECTED DISTRIBUTION"
      ],
      "metadata": {
        "id": "f1ZX2K2kLufD"
      }
    },
    {
      "cell_type": "markdown",
      "source": [
        "Jalankan salah satu distribusi terbaik dibawah ini."
      ],
      "metadata": {
        "id": "Cbs66rc0L87h"
      }
    },
    {
      "cell_type": "markdown",
      "source": [
        "## WEIBULL"
      ],
      "metadata": {
        "id": "BL6ESYzdCJYM"
      }
    },
    {
      "cell_type": "code",
      "source": [
        "from scipy.special import gamma\n",
        "\n",
        "# Parameter Weibull\n",
        "beta = weibull_scale_ttf  # Scale parameter\n",
        "k = weibull_shape_ttf    # Shape parameter\n",
        "\n",
        "# Hitung MTTF\n",
        "mttf_weibull = beta * gamma(1 + 1 / k)\n",
        "print(f\"Mean Time to Failure (MTTF) for Weibull Distribution: {mttf_weibull:.2f} jam\")\n",
        "\n",
        "# Reliability\n",
        "reliability_at_t = np.exp(-(mttf_weibull / beta) ** k)\n",
        "reliability_at_t = reliability_at_t * 100\n",
        "prob_failure_at_t = 100 - reliability_at_t\n",
        "\n",
        "print(f\"Reliability pada saat t = {mttf_weibull:.2f} jam , adalah : {reliability_at_t:.2f}%\")\n",
        "print(f\"artinya {prob_failure_at_t:.2f}% berpotensi failure\")"
      ],
      "metadata": {
        "colab": {
          "base_uri": "https://localhost:8080/"
        },
        "id": "X8DklCWAjdCq",
        "outputId": "24b5430f-c1f4-458e-e7e3-7726e83db86f"
      },
      "execution_count": null,
      "outputs": [
        {
          "output_type": "stream",
          "name": "stdout",
          "text": [
            "Mean Time to Failure (MTTF) for Weibull Distribution: 5599.87 jam\n",
            "Reliability pada saat t = 5599.87 jam , adalah : 46.22%\n",
            "artinya 53.78% berpotensi failure\n"
          ]
        }
      ]
    },
    {
      "cell_type": "code",
      "source": [
        "# Parameter Weibull\n",
        "k = weibull_shape_ttf     # Shape parameter\n",
        "beta = weibull_scale_ttf  # Scale parameter\n",
        "\n",
        "# Ambang reliabilitas (masukkan persen probabilitas yang diinginkan, semakin tinggi persen-nya semakin pendek durasi lifetime)\n",
        "reliability_threshold = 0.75\n",
        "\n",
        "# Cari waktu optimal\n",
        "t = np.linspace(0, max(ttf_data), 10000)  # Rentang waktu\n",
        "reliability = np.exp(-(t / beta) ** k)\n",
        "\n",
        "# Waktu penggantian optimal\n",
        "t_optimal = t[np.where(reliability <= reliability_threshold)[0][0]]\n",
        "\n",
        "print(f\"Waktu penggantian optimal berdasarkan reliabilitas > {reliability_threshold*100}%: {t_optimal:.2f} jam\")"
      ],
      "metadata": {
        "colab": {
          "base_uri": "https://localhost:8080/"
        },
        "id": "FyXrRxO5nk1U",
        "outputId": "2eb87df2-1c56-4627-a708-d40a4e08464e"
      },
      "execution_count": null,
      "outputs": [
        {
          "output_type": "stream",
          "name": "stdout",
          "text": [
            "Waktu penggantian optimal berdasarkan reliabilitas > 75.0%: 3527.85 jam\n"
          ]
        }
      ]
    },
    {
      "cell_type": "markdown",
      "source": [
        "## LOG-NORMAL"
      ],
      "metadata": {
        "id": "ugLKMxAEDLJT"
      }
    },
    {
      "cell_type": "code",
      "source": [
        "from scipy.stats import lognorm\n",
        "\n",
        "# Parameter yang sudah diestimasi\n",
        "sigma = lognormal_shape_ttf  # σ (shape parameter)\n",
        "scale = lognormal_scale_ttf   # e^μ (scale parameter)\n",
        "mu = np.log(scale)           # μ = ln(scale)\n",
        "\n",
        "# Hitung MTTF\n",
        "mttf_log_normal = np.exp(mu + (sigma**2) / 2)\n",
        "\n",
        "print(f\"Mean Time to Failure (MTTF) for Log Normal Distribution: {mttf_log_normal:.2f} jam\")"
      ],
      "metadata": {
        "colab": {
          "base_uri": "https://localhost:8080/"
        },
        "id": "GzD81Ac-G8F5",
        "outputId": "16c11306-a2e7-4ef0-8757-6be3c10395ed"
      },
      "execution_count": null,
      "outputs": [
        {
          "output_type": "stream",
          "name": "stdout",
          "text": [
            "Mean Time to Failure (MTTF) for Log Normal Distribution: 5819.38 jam\n"
          ]
        }
      ]
    },
    {
      "cell_type": "code",
      "source": [
        "# Fungsi reliabilitas lognormal\n",
        "z = (np.log(mttf_log_normal) - mu) / sigma\n",
        "reliability_at_t = 1 - norm.cdf(z)\n",
        "reliability_at_t = reliability_at_t * 100\n",
        "prob_failure_at_t = 100 - reliability_at_t\n",
        "\n",
        "print(f\"Reliability pada saat t = {mttf_log_normal:.2f} jam , adalah : {reliability_at_t:.2f}%\")\n",
        "print(f\"artinya {prob_failure_at_t:.2f}% berpotensi failure\")"
      ],
      "metadata": {
        "colab": {
          "base_uri": "https://localhost:8080/"
        },
        "id": "hdT5sO_HJr_X",
        "outputId": "73c70c1a-63c3-4040-a997-404c74d4abda"
      },
      "execution_count": null,
      "outputs": [
        {
          "output_type": "stream",
          "name": "stdout",
          "text": [
            "Reliability pada saat t = 5819.38 jam , adalah : 37.89%\n",
            "artinya 62.11% berpotensi failure\n"
          ]
        }
      ]
    },
    {
      "cell_type": "markdown",
      "source": [
        "## NORMAL"
      ],
      "metadata": {
        "id": "TYh9uAocKlU6"
      }
    },
    {
      "cell_type": "code",
      "source": [
        "mttf_normal = normal_mean_ttf\n",
        "print(f\"Mean Time to Failure (MTTF) for Normal Distribution: {mttf_normal:.2f} jam\")"
      ],
      "metadata": {
        "colab": {
          "base_uri": "https://localhost:8080/"
        },
        "id": "BArf0mAeLOtv",
        "outputId": "82828681-5705-44d1-939e-1396addb3afe"
      },
      "execution_count": null,
      "outputs": [
        {
          "output_type": "stream",
          "name": "stdout",
          "text": [
            "Mean Time to Failure (MTTF) for Normal Distribution: 8496.96 jam\n"
          ]
        }
      ]
    },
    {
      "cell_type": "markdown",
      "source": [
        "## EXPONENTIAL"
      ],
      "metadata": {
        "id": "mYAdwEkxLbjG"
      }
    },
    {
      "cell_type": "code",
      "source": [
        "# Eksponensial hanya punya parameter lambda = 1/scale\n",
        "lambda_exp = 1 / expon_scale_ttf\n",
        "\n",
        "# Hitung MTTF untuk distribusi eksponensial\n",
        "mttf_expon = expon_scale_ttf  # MTTF = 1/lambda\n",
        "print(f\"Mean Time to Failure (MTTF) for Exponential Distribution: {mttf_expon:.2f} jam\")\n",
        "\n",
        "# Hitung Reliability pada t = MTTF\n",
        "t = mttf_expon\n",
        "reliability_at_t = np.exp(-lambda_exp * t) * 100  # dalam persen\n",
        "prob_failure_at_t = 100 - reliability_at_t\n",
        "\n",
        "# Tampilkan hasil\n",
        "print(f\"Reliability at t = {t:.2f} jam: {reliability_at_t:.2f}%\")\n",
        "print(f\"Probability of Failure at t = {t:.2f} jam: {prob_failure_at_t:.2f}%\")"
      ],
      "metadata": {
        "colab": {
          "base_uri": "https://localhost:8080/"
        },
        "id": "17VhYOf9LnfG",
        "outputId": "e41c98a0-e8ba-44f7-f20b-fa917e9b7592"
      },
      "execution_count": null,
      "outputs": [
        {
          "output_type": "stream",
          "name": "stdout",
          "text": [
            "Mean Time to Failure (MTTF) for Exponential Distribution: 5607.73 jam\n",
            "Reliability at t = 5607.73 jam: 36.79%\n",
            "Probability of Failure at t = 5607.73 jam: 63.21%\n"
          ]
        }
      ]
    }
  ]
}