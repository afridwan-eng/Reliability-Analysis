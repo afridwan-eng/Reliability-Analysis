{
 "cells": [
  {
   "cell_type": "markdown",
   "metadata": {
    "id": "IJs7U1cXpxe1"
   },
   "source": [
    "# MTTF"
   ]
  },
  {
   "cell_type": "code",
   "execution_count": 3,
   "metadata": {
    "colab": {
     "base_uri": "https://localhost:8080/",
     "height": 832,
     "referenced_widgets": [
      "060b576d850c4547a7c23e0f8f24312d",
      "a742bf5ad01b4ecf8f5ffd63c0d1cdce",
      "5174ca75fba1461fb350c8c73372c8d6",
      "9256b3447caa4b1aaccdd518a381eaed",
      "0e85f090ce464139b22e178c8599b99e",
      "3cea1c4b3c4d49bb97d67eb66c6ee107",
      "8a32ff7bd9994cb29e9eabe17897110c",
      "ae86c02e84db434892e2d64f960407fc"
     ]
    },
    "id": "huU-1U71Jnpr",
    "outputId": "e66f0ba9-5bd2-48c2-eb68-10bbabdc7bfa"
   },
   "outputs": [
    {
     "data": {
      "application/vnd.jupyter.widget-view+json": {
       "model_id": "060b576d850c4547a7c23e0f8f24312d",
       "version_major": 2,
       "version_minor": 0
      },
      "text/plain": [
       "Textarea(value='3107.5\\n7677.25\\n925\\n2751\\n8567.67\\n7156\\n4390.5\\n5422.5', description='Data TTF:', layout=La…"
      ]
     },
     "metadata": {},
     "output_type": "display_data"
    },
    {
     "data": {
      "application/vnd.jupyter.widget-view+json": {
       "model_id": "9256b3447caa4b1aaccdd518a381eaed",
       "version_major": 2,
       "version_minor": 0
      },
      "text/plain": [
       "Button(button_style='success', description='🔍 Calculate MTTF & Reliability', style=ButtonStyle())"
      ]
     },
     "metadata": {},
     "output_type": "display_data"
    },
    {
     "data": {
      "application/vnd.jupyter.widget-view+json": {
       "model_id": "8a32ff7bd9994cb29e9eabe17897110c",
       "version_major": 2,
       "version_minor": 0
      },
      "text/plain": [
       "Output()"
      ]
     },
     "metadata": {},
     "output_type": "display_data"
    }
   ],
   "source": [
    "# Copyright (c) 2025\n",
    "# All rights reserved.\n",
    "#\n",
    "# Author: Ahmad Fauzi Ridwan\n",
    "# Created: July 2025\n",
    "\n",
    "# Instalasi ipywidgets\n",
    "!pip install ipywidgets --quiet\n",
    "\n",
    "# Import library\n",
    "import numpy as np\n",
    "import pandas as pd\n",
    "import matplotlib.pyplot as plt\n",
    "from scipy.stats import expon, norm, lognorm, weibull_min, ks_1samp\n",
    "from scipy.special import gamma\n",
    "import ipywidgets as widgets\n",
    "from IPython.display import display, clear_output\n",
    "\n",
    "# Input widget\n",
    "input_ttf = widgets.Textarea(\n",
    "    value='3107.5\\n7677.25\\n925\\n2751\\n8567.67\\n7156\\n4390.5\\n5422.5',\n",
    "    placeholder='Paste the TTF data here (without header, 1 data per line)',\n",
    "    description='Data TTF:',\n",
    "    layout=widgets.Layout(width='100%', height='200px'),\n",
    "    style={'description_width': 'initial'}\n",
    ")\n",
    "\n",
    "run_button = widgets.Button(\n",
    "    description='🔍 Calculate MTTF & Reliability',\n",
    "    button_style='success'\n",
    ")\n",
    "\n",
    "output = widgets.Output()\n",
    "\n",
    "# Function when button is pressed\n",
    "def on_button_click(b):\n",
    "    with output:\n",
    "        clear_output()\n",
    "        try:\n",
    "            # Retrieve and parse data\n",
    "            ttf_lines = input_ttf.value.strip().split('\\n')\n",
    "            ttf_data = np.array([float(x.strip()) for x in ttf_lines if x.strip() != ''])\n",
    "\n",
    "            if len(ttf_data) < 3:\n",
    "                print(\"⚠️ Enter at least 3 TTF data.\")\n",
    "                return\n",
    "\n",
    "            # Fit distribution\n",
    "            distribusi = {\n",
    "                \"Exponential\": expon.fit(ttf_data, floc=0),\n",
    "                \"Weibull\": weibull_min.fit(ttf_data, floc=0),\n",
    "                \"Lognormal\": lognorm.fit(ttf_data, floc=0),\n",
    "                \"Normal\": norm.fit(ttf_data)\n",
    "            }\n",
    "\n",
    "            # KS Test\n",
    "            ks_results = {}\n",
    "            for name, params in distribusi.items():\n",
    "                dist = {\n",
    "                    \"Exponential\": expon,\n",
    "                    \"Weibull\": weibull_min,\n",
    "                    \"Lognormal\": lognorm,\n",
    "                    \"Normal\": norm\n",
    "                }[name]\n",
    "                ks_stat, _ = ks_1samp(ttf_data, lambda x: dist.cdf(x, *params))\n",
    "                ks_results[name] = (ks_stat, params)\n",
    "\n",
    "            # Best distribution (smallest KS)\n",
    "            best_dist = min(ks_results, key=lambda k: ks_results[k][0])\n",
    "            best_params = ks_results[best_dist][1]\n",
    "\n",
    "            print(f\"✅ Best distribution (based on KS-Statistic): {best_dist}\")\n",
    "\n",
    "            # Calculate MTTF & Reliability\n",
    "            if best_dist == \"Weibull\":\n",
    "                shape, loc, scale = best_params\n",
    "                mttf = scale * gamma(1 + 1/shape)\n",
    "                R = np.exp(-(mttf / scale) ** shape)\n",
    "                pdf_func = lambda t: weibull_min.pdf(t, shape, loc, scale)\n",
    "                rel_func = lambda t: np.exp(-(t / scale) ** shape)\n",
    "            elif best_dist == \"Lognormal\":\n",
    "                shape, loc, scale = best_params\n",
    "                mu = np.log(scale)\n",
    "                sigma = shape\n",
    "                mttf = np.exp(mu + (sigma**2)/2)\n",
    "                z = (np.log(mttf) - mu) / sigma\n",
    "                R = 1 - norm.cdf(z)\n",
    "                pdf_func = lambda t: lognorm.pdf(t, sigma, loc, scale)\n",
    "                rel_func = lambda t: 1 - lognorm.cdf(t, sigma, loc, scale)\n",
    "            elif best_dist == \"Normal\":\n",
    "                mu, sigma = best_params\n",
    "                mttf = mu\n",
    "                R = 0.5\n",
    "                pdf_func = lambda t: norm.pdf(t, mu, sigma)\n",
    "                rel_func = lambda t: 1 - norm.cdf(t, mu, sigma)\n",
    "            elif best_dist == \"Exponential\":\n",
    "                loc, scale = best_params\n",
    "                mttf = scale\n",
    "                R = np.exp(-1)\n",
    "                pdf_func = lambda t: expon.pdf(t, loc, scale)\n",
    "                rel_func = lambda t: np.exp(-t / scale)\n",
    "\n",
    "            print(f\"📈 MTTF: {mttf:.2f} hours\")\n",
    "            print(f\"🔒 Reliability in t = {mttf:.2f} hours: {R*100:.2f}%\")\n",
    "            print(f\"⚠️ Probability of Failure: {(1 - R)*100:.2f}%\")\n",
    "\n",
    "            # --- VISUALIZATION ---\n",
    "            fig, ax = plt.subplots(1, 2, figsize=(14, 5))\n",
    "\n",
    "            # Histogram & PDF\n",
    "            t_range = np.linspace(min(ttf_data) * 0.8, max(ttf_data) * 1.2, 1000)\n",
    "            ax[0].hist(ttf_data, bins='auto', density=True, alpha=0.6, label='Data TTF')\n",
    "            ax[0].plot(t_range, pdf_func(t_range), 'r-', lw=2, label=f'{best_dist} PDF')\n",
    "            ax[0].set_title('TTF Histogram + PDF Distribution')\n",
    "            ax[0].set_xlabel('Time (Hours)')\n",
    "            ax[0].set_ylabel('Density')\n",
    "            ax[0].legend()\n",
    "            ax[0].grid(True)\n",
    "\n",
    "            # Reliability function graph\n",
    "            ax[1].plot(t_range, rel_func(t_range), 'b-', lw=2, label=f'{best_dist} Reliability')\n",
    "            ax[1].axvline(mttf, color='green', linestyle='--', label=f'MTTF ≈ {mttf:.0f} jam')\n",
    "            ax[1].axhline(R, color='orange', linestyle='--', label=f'Reliability @MTTF: {R*100:.1f}%')\n",
    "            ax[1].set_title('Reliability Function R(t)')\n",
    "            ax[1].set_xlabel('Time (Hours)')\n",
    "            ax[1].set_ylabel('Reliability')\n",
    "            ax[1].set_ylim(0, 1.05)\n",
    "            ax[1].legend()\n",
    "            ax[1].grid(True)\n",
    "\n",
    "            plt.tight_layout()\n",
    "            plt.show()\n",
    "\n",
    "        except Exception as e:\n",
    "            print(\"❌ An error occurred:\", e)\n",
    "\n",
    "# Event handler\n",
    "run_button.on_click(on_button_click)\n",
    "\n",
    "# Display interface\n",
    "display(input_ttf, run_button, output)\n"
   ]
  }
 ],
 "metadata": {
  "colab": {
   "provenance": [],
   "toc_visible": true
  },
  "kernelspec": {
   "display_name": "Python 3",
   "name": "python3"
  },
  "language_info": {
   "name": "python"
  }
 },
 "nbformat": 4,
 "nbformat_minor": 0
}
